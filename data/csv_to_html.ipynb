{
 "metadata": {
  "language_info": {
   "codemirror_mode": {
    "name": "ipython",
    "version": 3
   },
   "file_extension": ".py",
   "mimetype": "text/x-python",
   "name": "python",
   "nbconvert_exporter": "python",
   "pygments_lexer": "ipython3",
   "version": "3.8.5-final"
  },
  "orig_nbformat": 2,
  "kernelspec": {
   "name": "python3",
   "display_name": "Python 3.8.5 64-bit (conda)",
   "metadata": {
    "interpreter": {
     "hash": "1993242ffda7442e9e11904b1e2b92890343f7619b6c60b06cc7ef8fbca209c8"
    }
   }
  }
 },
 "nbformat": 4,
 "nbformat_minor": 2,
 "cells": [
  {
   "cell_type": "code",
   "execution_count": 1,
   "metadata": {},
   "outputs": [],
   "source": [
    "import pandas as pd"
   ]
  },
  {
   "cell_type": "code",
   "execution_count": 3,
   "metadata": {},
   "outputs": [
    {
     "output_type": "execute_result",
     "data": {
      "text/plain": [
       "             City      Lat       Lng  Max Temp  Humidity  Cloudiness  \\\n",
       "0          hobart -42.8794  147.3294     73.40        53          98   \n",
       "1            brae  60.3964   -1.3530     44.60        87          75   \n",
       "2       beni suef  29.0731   31.0979     63.64        42          84   \n",
       "3       ostrovnoy  68.0531   39.5131     -1.57        91          98   \n",
       "4       saskylakh  71.9167  114.0833    -26.61        85          86   \n",
       "..            ...      ...       ...       ...       ...         ...   \n",
       "558         mpika -11.8343   31.4529     74.12        83         100   \n",
       "559         ancud -41.8697  -73.8203     61.00        47          75   \n",
       "560  port augusta -32.5000  137.7667     78.01        83           0   \n",
       "561        turayf  31.6725   38.6637     51.80        50          40   \n",
       "562         hobyo   5.3505   48.5268     77.63        72          94   \n",
       "\n",
       "     Wind Speed Country        Date  \n",
       "0          8.05      AU  1613748215  \n",
       "1         28.77      GB  1613748375  \n",
       "2          8.16      EG  1613748375  \n",
       "3          3.09      RU  1613748376  \n",
       "4          7.16      RU  1613748376  \n",
       "..          ...     ...         ...  \n",
       "558        1.21      ZM  1613748474  \n",
       "559       11.50      CL  1613748474  \n",
       "560       18.41      AU  1613748475  \n",
       "561       11.50      SA  1613748475  \n",
       "562       18.79      SO  1613748475  \n",
       "\n",
       "[563 rows x 9 columns]"
      ],
      "text/html": "<div>\n<style scoped>\n    .dataframe tbody tr th:only-of-type {\n        vertical-align: middle;\n    }\n\n    .dataframe tbody tr th {\n        vertical-align: top;\n    }\n\n    .dataframe thead th {\n        text-align: right;\n    }\n</style>\n<table border=\"1\" class=\"dataframe\">\n  <thead>\n    <tr style=\"text-align: right;\">\n      <th></th>\n      <th>City</th>\n      <th>Lat</th>\n      <th>Lng</th>\n      <th>Max Temp</th>\n      <th>Humidity</th>\n      <th>Cloudiness</th>\n      <th>Wind Speed</th>\n      <th>Country</th>\n      <th>Date</th>\n    </tr>\n  </thead>\n  <tbody>\n    <tr>\n      <th>0</th>\n      <td>hobart</td>\n      <td>-42.8794</td>\n      <td>147.3294</td>\n      <td>73.40</td>\n      <td>53</td>\n      <td>98</td>\n      <td>8.05</td>\n      <td>AU</td>\n      <td>1613748215</td>\n    </tr>\n    <tr>\n      <th>1</th>\n      <td>brae</td>\n      <td>60.3964</td>\n      <td>-1.3530</td>\n      <td>44.60</td>\n      <td>87</td>\n      <td>75</td>\n      <td>28.77</td>\n      <td>GB</td>\n      <td>1613748375</td>\n    </tr>\n    <tr>\n      <th>2</th>\n      <td>beni suef</td>\n      <td>29.0731</td>\n      <td>31.0979</td>\n      <td>63.64</td>\n      <td>42</td>\n      <td>84</td>\n      <td>8.16</td>\n      <td>EG</td>\n      <td>1613748375</td>\n    </tr>\n    <tr>\n      <th>3</th>\n      <td>ostrovnoy</td>\n      <td>68.0531</td>\n      <td>39.5131</td>\n      <td>-1.57</td>\n      <td>91</td>\n      <td>98</td>\n      <td>3.09</td>\n      <td>RU</td>\n      <td>1613748376</td>\n    </tr>\n    <tr>\n      <th>4</th>\n      <td>saskylakh</td>\n      <td>71.9167</td>\n      <td>114.0833</td>\n      <td>-26.61</td>\n      <td>85</td>\n      <td>86</td>\n      <td>7.16</td>\n      <td>RU</td>\n      <td>1613748376</td>\n    </tr>\n    <tr>\n      <th>...</th>\n      <td>...</td>\n      <td>...</td>\n      <td>...</td>\n      <td>...</td>\n      <td>...</td>\n      <td>...</td>\n      <td>...</td>\n      <td>...</td>\n      <td>...</td>\n    </tr>\n    <tr>\n      <th>558</th>\n      <td>mpika</td>\n      <td>-11.8343</td>\n      <td>31.4529</td>\n      <td>74.12</td>\n      <td>83</td>\n      <td>100</td>\n      <td>1.21</td>\n      <td>ZM</td>\n      <td>1613748474</td>\n    </tr>\n    <tr>\n      <th>559</th>\n      <td>ancud</td>\n      <td>-41.8697</td>\n      <td>-73.8203</td>\n      <td>61.00</td>\n      <td>47</td>\n      <td>75</td>\n      <td>11.50</td>\n      <td>CL</td>\n      <td>1613748474</td>\n    </tr>\n    <tr>\n      <th>560</th>\n      <td>port augusta</td>\n      <td>-32.5000</td>\n      <td>137.7667</td>\n      <td>78.01</td>\n      <td>83</td>\n      <td>0</td>\n      <td>18.41</td>\n      <td>AU</td>\n      <td>1613748475</td>\n    </tr>\n    <tr>\n      <th>561</th>\n      <td>turayf</td>\n      <td>31.6725</td>\n      <td>38.6637</td>\n      <td>51.80</td>\n      <td>50</td>\n      <td>40</td>\n      <td>11.50</td>\n      <td>SA</td>\n      <td>1613748475</td>\n    </tr>\n    <tr>\n      <th>562</th>\n      <td>hobyo</td>\n      <td>5.3505</td>\n      <td>48.5268</td>\n      <td>77.63</td>\n      <td>72</td>\n      <td>94</td>\n      <td>18.79</td>\n      <td>SO</td>\n      <td>1613748475</td>\n    </tr>\n  </tbody>\n</table>\n<p>563 rows × 9 columns</p>\n</div>"
     },
     "metadata": {},
     "execution_count": 3
    }
   ],
   "source": [
    "csv = pd.read_csv(\"cities.csv\")\n",
    "df = pd.DataFrame(csv)\n",
    "df\n",
    "del df['Unnamed: 0']\n",
    "df"
   ]
  },
  {
   "cell_type": "code",
   "execution_count": 4,
   "metadata": {},
   "outputs": [],
   "source": [
    "df.to_html('cities.html')"
   ]
  },
  {
   "cell_type": "code",
   "execution_count": null,
   "metadata": {},
   "outputs": [],
   "source": []
  }
 ]
}